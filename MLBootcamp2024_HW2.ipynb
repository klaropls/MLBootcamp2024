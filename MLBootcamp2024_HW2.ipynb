{
  "cells": [
    {
      "cell_type": "markdown",
      "metadata": {
        "id": "view-in-github",
        "colab_type": "text"
      },
      "source": [
        "<a href=\"https://colab.research.google.com/github/klaropls/MLBootcamp2024/blob/main/MLBootcamp2024_HW2.ipynb\" target=\"_parent\"><img src=\"https://colab.research.google.com/assets/colab-badge.svg\" alt=\"Open In Colab\"/></a>"
      ]
    },
    {
      "cell_type": "code",
      "execution_count": 1,
      "metadata": {
        "id": "GliowChNHrRJ"
      },
      "outputs": [],
      "source": [
        "import pandas as pd\n",
        "import numpy as np\n",
        "from google.colab import files"
      ]
    },
    {
      "cell_type": "markdown",
      "metadata": {
        "id": "HfbgZaRGsBwM"
      },
      "source": [
        "Extracting and preparing the dataset."
      ]
    },
    {
      "cell_type": "code",
      "execution_count": 2,
      "metadata": {
        "id": "zZGjkMyeKLP3"
      },
      "outputs": [],
      "source": [
        "url = 'https://raw.githubusercontent.com/alexeygrigorev/datasets/master/laptops.csv'"
      ]
    },
    {
      "cell_type": "code",
      "execution_count": 3,
      "metadata": {
        "colab": {
          "base_uri": "https://localhost:8080/"
        },
        "id": "sgo7vhZZLazQ",
        "outputId": "37bc6976-93f2-4591-9683-8829fa461686"
      },
      "outputs": [
        {
          "output_type": "stream",
          "name": "stdout",
          "text": [
            "                                              Laptop Status   Brand  \\\n",
            "0  ASUS ExpertBook B1 B1502CBA-EJ0436X Intel Core...    New    Asus   \n",
            "1  Alurin Go Start Intel Celeron N4020/8GB/256GB ...    New  Alurin   \n",
            "2  ASUS ExpertBook B1 B1502CBA-EJ0424X Intel Core...    New    Asus   \n",
            "3  MSI Katana GF66 12UC-082XES Intel Core i7-1270...    New     MSI   \n",
            "4  HP 15S-FQ5085NS Intel Core i5-1235U/16GB/512GB...    New      HP   \n",
            "\n",
            "        Model            CPU  RAM  Storage Storage type       GPU  Screen  \\\n",
            "0  ExpertBook  Intel Core i5    8      512          SSD       NaN    15.6   \n",
            "1          Go  Intel Celeron    8      256          SSD       NaN    15.6   \n",
            "2  ExpertBook  Intel Core i3    8      256          SSD       NaN    15.6   \n",
            "3      Katana  Intel Core i7   16     1000          SSD  RTX 3050    15.6   \n",
            "4         15S  Intel Core i5   16      512          SSD       NaN    15.6   \n",
            "\n",
            "  Touch  Final Price  \n",
            "0    No      1009.00  \n",
            "1    No       299.00  \n",
            "2    No       789.00  \n",
            "3    No      1199.00  \n",
            "4    No       669.01  \n"
          ]
        }
      ],
      "source": [
        "df = pd.read_csv(url)\n",
        "print(df.head())"
      ]
    },
    {
      "cell_type": "code",
      "execution_count": 4,
      "metadata": {
        "id": "zXggTPMOLczU"
      },
      "outputs": [],
      "source": [
        "df.columns = df.columns.str.lower().str.replace(' ', '_')"
      ]
    },
    {
      "cell_type": "code",
      "execution_count": 5,
      "metadata": {
        "colab": {
          "base_uri": "https://localhost:8080/"
        },
        "id": "hU6Iumh3L1s6",
        "outputId": "d5d02042-fd8b-4159-ff7a-036aa731906b"
      },
      "outputs": [
        {
          "output_type": "stream",
          "name": "stdout",
          "text": [
            "Index(['laptop', 'status', 'brand', 'model', 'cpu', 'ram', 'storage',\n",
            "       'storage_type', 'gpu', 'screen', 'touch', 'final_price'],\n",
            "      dtype='object')\n"
          ]
        }
      ],
      "source": [
        "print(df.columns)"
      ]
    },
    {
      "cell_type": "code",
      "execution_count": 6,
      "metadata": {
        "id": "kABRzuVkN55O"
      },
      "outputs": [],
      "source": [
        "df_new = df[['ram','storage','screen','final_price']]"
      ]
    },
    {
      "cell_type": "code",
      "execution_count": 7,
      "metadata": {
        "colab": {
          "base_uri": "https://localhost:8080/"
        },
        "id": "sRIMlVBcOLK1",
        "outputId": "4eacc67d-420b-4240-a3af-3865673c4a51"
      },
      "outputs": [
        {
          "output_type": "stream",
          "name": "stdout",
          "text": [
            "   ram  storage  screen  final_price\n",
            "0    8      512    15.6      1009.00\n",
            "1    8      256    15.6       299.00\n",
            "2    8      256    15.6       789.00\n",
            "3   16     1000    15.6      1199.00\n",
            "4   16      512    15.6       669.01\n"
          ]
        }
      ],
      "source": [
        "print(df_new.head())"
      ]
    },
    {
      "cell_type": "code",
      "execution_count": 8,
      "metadata": {
        "id": "0OJp3YB0OTHR"
      },
      "outputs": [],
      "source": [
        "import matplotlib.pyplot as plt\n",
        "import seaborn as sns\n",
        "\n",
        "%matplotlib inline"
      ]
    },
    {
      "cell_type": "code",
      "execution_count": 9,
      "metadata": {
        "colab": {
          "base_uri": "https://localhost:8080/",
          "height": 468
        },
        "id": "fOjy4sqEOo0W",
        "outputId": "4bc8bcb1-55b9-4903-bc8d-eb13ff83da2b"
      },
      "outputs": [
        {
          "output_type": "execute_result",
          "data": {
            "text/plain": [
              "<Axes: xlabel='final_price', ylabel='Count'>"
            ]
          },
          "metadata": {},
          "execution_count": 9
        },
        {
          "output_type": "display_data",
          "data": {
            "text/plain": [
              "<Figure size 640x480 with 1 Axes>"
            ],
            "image/png": "[encoded data removed]"
          },
          "metadata": {}
        }
      ],
      "source": [
        "sns.histplot(df_new.final_price)"
      ]
    },
    {
      "cell_type": "markdown",
      "metadata": {
        "id": "GHBcMs_osO0o"
      },
      "source": [
        "Question 1\n",
        "There's one column with missing values. What is it?\n",
        "\n",
        "We could simply use the isnull() function to find the missing elements. By composing it with .sum(), we find the total number of missing entries per column.\n",
        "\n",
        "**Ans: screen**"
      ]
    },
    {
      "cell_type": "code",
      "execution_count": 10,
      "metadata": {
        "colab": {
          "base_uri": "https://localhost:8080/",
          "height": 210
        },
        "id": "mvIONBycOx5f",
        "outputId": "f887cc4f-8cd2-41cf-c442-a2dfb0ce645e"
      },
      "outputs": [
        {
          "output_type": "execute_result",
          "data": {
            "text/plain": [
              "ram            0\n",
              "storage        0\n",
              "screen         4\n",
              "final_price    0\n",
              "dtype: int64"
            ],
            "text/html": [
              "<div>\n",
              "<style scoped>\n",
              "    .dataframe tbody tr th:only-of-type {\n",
              "        vertical-align: middle;\n",
              "    }\n",
              "\n",
              "    .dataframe tbody tr th {\n",
              "        vertical-align: top;\n",
              "    }\n",
              "\n",
              "    .dataframe thead th {\n",
              "        text-align: right;\n",
              "    }\n",
              "</style>\n",
              "<table border=\"1\" class=\"dataframe\">\n",
              "  <thead>\n",
              "    <tr style=\"text-align: right;\">\n",
              "      <th></th>\n",
              "      <th>0</th>\n",
              "    </tr>\n",
              "  </thead>\n",
              "  <tbody>\n",
              "    <tr>\n",
              "      <th>ram</th>\n",
              "      <td>0</td>\n",
              "    </tr>\n",
              "    <tr>\n",
              "      <th>storage</th>\n",
              "      <td>0</td>\n",
              "    </tr>\n",
              "    <tr>\n",
              "      <th>screen</th>\n",
              "      <td>4</td>\n",
              "    </tr>\n",
              "    <tr>\n",
              "      <th>final_price</th>\n",
              "      <td>0</td>\n",
              "    </tr>\n",
              "  </tbody>\n",
              "</table>\n",
              "</div><br><label><b>dtype:</b> int64</label>"
            ]
          },
          "metadata": {},
          "execution_count": 10
        }
      ],
      "source": [
        "df_new.isnull().sum()"
      ]
    },
    {
      "cell_type": "markdown",
      "metadata": {
        "id": "crfENggGs-vh"
      },
      "source": [
        "Question 2\n",
        "What's the median (50% percentile) for variable 'ram'?\n",
        "\n",
        "This is very straightforward to answer with the .median() function.\n",
        "\n",
        "**Ans: 16.0**"
      ]
    },
    {
      "cell_type": "code",
      "execution_count": 11,
      "metadata": {
        "colab": {
          "base_uri": "https://localhost:8080/"
        },
        "id": "J4ECJaKMQLEj",
        "outputId": "d2aa5c5c-6013-4c48-e5ae-d5e10fa9e6ca"
      },
      "outputs": [
        {
          "output_type": "execute_result",
          "data": {
            "text/plain": [
              "16.0"
            ]
          },
          "metadata": {},
          "execution_count": 11
        }
      ],
      "source": [
        "df_new.ram.median()"
      ]
    },
    {
      "cell_type": "markdown",
      "metadata": {
        "id": "Ptt7GRoLtOaJ"
      },
      "source": [
        "Question 3\n",
        "\n",
        "    We need to deal with missing values for the column from Q1.\n",
        "    We have two options: fill it with 0 or with the mean of this variable.\n",
        "    Try both options. For each, train a linear regression model without regularization using the code from the lessons.\n",
        "    For computing the mean, use the training only!\n",
        "    Use the validation dataset to evaluate the models and compare the RMSE of each option.\n",
        "    Round the RMSE scores to 2 decimal digits using round(score, 2)\n",
        "    Which option gives better RMSE?\n",
        "\n",
        "Options:\n",
        "\n",
        "    With 0\n",
        "    With mean\n",
        "    Both are equally good\n"
      ]
    },
    {
      "cell_type": "markdown",
      "metadata": {
        "id": "3VeFBceftVye"
      },
      "source": [
        "We first need to split the dataset.\n",
        "Our first task is to shuffle the index to randomize the distribution of the dataset. We do it as follows:"
      ]
    },
    {
      "cell_type": "code",
      "execution_count": 12,
      "metadata": {
        "colab": {
          "base_uri": "https://localhost:8080/"
        },
        "id": "CohwXt5qdBnN",
        "outputId": "12af1259-7df0-4b79-eea5-ce4acc4d6e8f"
      },
      "outputs": [
        {
          "output_type": "stream",
          "name": "stdout",
          "text": [
            "[2079  668 2073 ... 1130 1294  860]\n"
          ]
        }
      ],
      "source": [
        "n = len(df_new)\n",
        "idx = np.arange(n)\n",
        "np.random.seed(42)\n",
        "np.random.shuffle(idx)\n",
        "print(idx)"
      ]
    },
    {
      "cell_type": "markdown",
      "metadata": {
        "id": "yIDTsPiMuR8K"
      },
      "source": [
        "Now that we see the indices are shuffled, we split the validation/testing/training dataset into 20%/20%/60%. This can be done in a straightforward manner as follows.\n",
        "\n",
        "Note that it is best to write n_train as n - n_val - n_test over int(n*0.6) to avoid unnecessary index lost."
      ]
    },
    {
      "cell_type": "code",
      "execution_count": 13,
      "metadata": {
        "id": "lCUvAB46T_Gg"
      },
      "outputs": [],
      "source": [
        "n_val = int(n * 0.2)\n",
        "n_test = int(n * 0.2)\n",
        "n_train = n - n_val - n_test"
      ]
    },
    {
      "cell_type": "code",
      "execution_count": 14,
      "metadata": {
        "colab": {
          "base_uri": "https://localhost:8080/"
        },
        "id": "wKCh4nAvV9vh",
        "outputId": "6d94721f-491a-4fbd-9bc8-5bade743a3b4"
      },
      "outputs": [
        {
          "output_type": "execute_result",
          "data": {
            "text/plain": [
              "(432, 432, 1296)"
            ]
          },
          "metadata": {},
          "execution_count": 14
        }
      ],
      "source": [
        "n_val, n_test, n_train"
      ]
    },
    {
      "cell_type": "code",
      "execution_count": 15,
      "metadata": {
        "id": "7bbOUzdvWKUO"
      },
      "outputs": [],
      "source": [
        "df_train = df_new.iloc[idx[:n_train]]\n",
        "df_val = df_new.iloc[idx[n_train:n_train+n_val]]\n",
        "df_test = df_new.iloc[idx[n_train+n_val:]]"
      ]
    },
    {
      "cell_type": "markdown",
      "metadata": {
        "id": "8Mj-nvXuuvm6"
      },
      "source": [
        "Now that we've split them accordingly, we can make the data look cleaner by dropping the (random) indices."
      ]
    },
    {
      "cell_type": "code",
      "execution_count": 16,
      "metadata": {
        "id": "k19o-meNfIN0"
      },
      "outputs": [],
      "source": [
        "df_train = df_train.reset_index(drop=True)\n",
        "df_val = df_val.reset_index(drop=True)\n",
        "df_test = df_test.reset_index(drop=True)"
      ]
    },
    {
      "cell_type": "code",
      "execution_count": 17,
      "metadata": {
        "id": "RSXXEwGG4drQ"
      },
      "outputs": [],
      "source": [
        "y_train = df_train.final_price.values\n",
        "y_val = df_val.final_price.values\n",
        "y_test = df_test.final_price.values"
      ]
    },
    {
      "cell_type": "markdown",
      "metadata": {
        "id": "JJOHBXNUxZbL"
      },
      "source": [
        "It is then best to delete the y column of the data to avoid mistraining and confusion."
      ]
    },
    {
      "cell_type": "code",
      "execution_count": 18,
      "metadata": {
        "id": "W6R9yfI0zjCp"
      },
      "outputs": [],
      "source": [
        "del df_train['final_price']\n",
        "del df_val['final_price']\n",
        "del df_test['final_price']"
      ]
    },
    {
      "cell_type": "code",
      "execution_count": 19,
      "metadata": {
        "id": "p9nRop43yDcj"
      },
      "outputs": [],
      "source": [
        "base = ['ram', 'storage', 'screen']"
      ]
    },
    {
      "cell_type": "code",
      "execution_count": 20,
      "metadata": {
        "id": "t4_7IxdPx0Nh"
      },
      "outputs": [],
      "source": [
        "def prepare_X0(df):\n",
        "\tdf_num = df[base]\n",
        "\tdf_num = df_num.fillna(0)\n",
        "\tX = df_num.values\n",
        "\treturn X"
      ]
    },
    {
      "cell_type": "code",
      "execution_count": 21,
      "metadata": {
        "id": "FhhjO8ewx9lD"
      },
      "outputs": [],
      "source": [
        "def prepare_Xmean(df):\n",
        "\tdf_num = df[base]\n",
        "\tdf_num = df_num.fillna(16.0)\n",
        "\tX = df_num.values\n",
        "\treturn X"
      ]
    },
    {
      "cell_type": "code",
      "execution_count": 22,
      "metadata": {
        "id": "8oGxCta0XvT2"
      },
      "outputs": [],
      "source": [
        "def train_linear_regression(X,y):\n",
        "  ones = np.ones(X.shape[0])\n",
        "  X = np.column_stack([ones,X])\n",
        "\n",
        "  XTX = X.T.dot(X)\n",
        "  XTX_inv = np.linalg.inv(XTX)\n",
        "  w_full = XTX_inv.dot(X.T).dot(y)\n",
        "\n",
        "  return w_full[0], w_full[1:]"
      ]
    },
    {
      "cell_type": "code",
      "execution_count": 23,
      "metadata": {
        "id": "zdpXMY9s0dpW"
      },
      "outputs": [],
      "source": [
        "X_train0 = prepare_X0(df_train)\n",
        "X_trainmean = prepare_Xmean(df_train)"
      ]
    },
    {
      "cell_type": "code",
      "execution_count": 24,
      "metadata": {
        "id": "VXokk9KT4vDm"
      },
      "outputs": [],
      "source": [
        "w0_0, w_0 = train_linear_regression(X_train0,y_train)\n",
        "w0_mean, w_mean = train_linear_regression(X_trainmean,y_train)"
      ]
    },
    {
      "cell_type": "code",
      "execution_count": 25,
      "metadata": {
        "id": "E5O4zjOt6JcS"
      },
      "outputs": [],
      "source": [
        "y_pred0 = w0_0 + X_train0.dot(w_0)\n",
        "y_predmean = w0_mean + X_trainmean.dot(w_mean)"
      ]
    },
    {
      "cell_type": "code",
      "execution_count": 26,
      "metadata": {
        "colab": {
          "base_uri": "https://localhost:8080/",
          "height": 448
        },
        "id": "LAtbtZS_6Uv7",
        "outputId": "468774f2-38ef-4404-fe7f-8c2d66dbad2d"
      },
      "outputs": [
        {
          "output_type": "execute_result",
          "data": {
            "text/plain": [
              "<Axes: ylabel='Count'>"
            ]
          },
          "metadata": {},
          "execution_count": 26
        },
        {
          "output_type": "display_data",
          "data": {
            "text/plain": [
              "<Figure size 640x480 with 1 Axes>"
            ],
            "image/png": "[encoded data removed]"
          },
          "metadata": {}
        }
      ],
      "source": [
        "sns.histplot(y_pred0, color = 'red', alpha = 0.5, bins = 50)\n",
        "sns.histplot(y_train, color = 'blue', alpha = 0.5, bins = 50)"
      ]
    },
    {
      "cell_type": "code",
      "execution_count": 27,
      "metadata": {
        "colab": {
          "base_uri": "https://localhost:8080/",
          "height": 452
        },
        "id": "bTp2WdkU5y5q",
        "outputId": "459b875d-2eb4-4278-fddd-9c55deb97cd5"
      },
      "outputs": [
        {
          "output_type": "execute_result",
          "data": {
            "text/plain": [
              "<Axes: ylabel='Count'>"
            ]
          },
          "metadata": {},
          "execution_count": 27
        },
        {
          "output_type": "display_data",
          "data": {
            "text/plain": [
              "<Figure size 640x480 with 1 Axes>"
            ],
            "image/png": "[encoded data removed]"
          },
          "metadata": {}
        }
      ],
      "source": [
        "sns.histplot(y_predmean, color = 'red', alpha = 0.5, bins = 50)\n",
        "sns.histplot(y_train, color = 'blue', alpha = 0.5, bins = 50)"
      ]
    },
    {
      "cell_type": "code",
      "execution_count": 28,
      "metadata": {
        "id": "c3n02F_l8r3x"
      },
      "outputs": [],
      "source": [
        "def rmse(y,y_pred):\n",
        "  se = (y - y_pred) ** 2\n",
        "  mse = se.mean()\n",
        "  return np.sqrt(mse)"
      ]
    },
    {
      "cell_type": "code",
      "execution_count": 57,
      "metadata": {
        "colab": {
          "base_uri": "https://localhost:8080/"
        },
        "id": "kQZahwok_X6M",
        "outputId": "3f74a6d7-9dfb-41ac-96ce-d1f8a682d179"
      },
      "outputs": [
        {
          "output_type": "stream",
          "name": "stdout",
          "text": [
            "-0.03999999999996362\n"
          ]
        }
      ],
      "source": [
        "rmse0 = round(rmse(y_pred0,y_train),2)\n",
        "rmsemean = round(rmse(y_predmean,y_train),2)\n",
        "print(rmse0-rmsemean)"
      ]
    },
    {
      "cell_type": "code",
      "execution_count": 30,
      "metadata": {
        "colab": {
          "base_uri": "https://localhost:8080/"
        },
        "id": "AY0UyFuR6cL7",
        "outputId": "a7934e13-fb82-48c7-cbe7-b44e61e19a9e"
      },
      "outputs": [
        {
          "output_type": "stream",
          "name": "stdout",
          "text": [
            "602.39 602.22\n"
          ]
        }
      ],
      "source": [
        "print(rmse0, rmsemean)"
      ]
    },
    {
      "cell_type": "markdown",
      "metadata": {
        "id": "0nX69QY46C0C"
      },
      "source": [
        "They have the same RMSE. If we were not to round them off, we'd find that rmse0-rmsemean > 0. This means that using the mean value to fill up the missing column would be *slightly* a bit better."
      ]
    },
    {
      "cell_type": "markdown",
      "metadata": {
        "id": "czQHhJ9qBjW1"
      },
      "source": [
        "Question 4\n",
        "\n",
        "    Now let's train a regularized linear regression.\n",
        "    For this question, fill the NAs with 0.\n",
        "    Try different values of r from this list: [0, 0.01, 0.1, 1, 5, 10, 100].\n",
        "    Use RMSE to evaluate the model on the validation dataset.\n",
        "    Round the RMSE scores to 2 decimal digits.\n",
        "    Which r gives the best RMSE?\n",
        "\n",
        "If there are multiple options, select the smallest r.\n",
        "\n",
        "Options:\n",
        "\n",
        "    0\n",
        "    0.01\n",
        "    1\n",
        "    10\n",
        "    100\n"
      ]
    },
    {
      "cell_type": "code",
      "execution_count": 31,
      "metadata": {
        "id": "reuSicYyAUN3"
      },
      "outputs": [],
      "source": [
        "def train_linear_regression_reg(X, y, r = 0.001):\n",
        "  ones = np.ones(X.shape[0])\n",
        "  X = np.column_stack([ones,X])\n",
        "\n",
        "  XTX = X.T.dot(X)\n",
        "  XTX = XTX + r * np.eye(XTX.shape[0])\n",
        "\n",
        "  XTX_inv = np.linalg.inv(XTX)\n",
        "  w_full = XTX_inv.dot(X.T).dot(y)\n",
        "\n",
        "  return w_full[0], w_full[1:]"
      ]
    },
    {
      "cell_type": "code",
      "execution_count": 32,
      "metadata": {
        "id": "CqxuPF-uBHpr"
      },
      "outputs": [],
      "source": [
        "r = [0, 0.01, 0.1, 1, 5, 10, 100]\n",
        "\n",
        "w0r_values = []\n",
        "wr_values = []\n",
        "\n",
        "for i, r_val in enumerate(r):\n",
        "    x_i, y_i = train_linear_regression_reg(X_train0, y_train, r_val)\n",
        "    w0r_values.append(x_i)\n",
        "    wr_values.append(y_i)"
      ]
    },
    {
      "cell_type": "code",
      "execution_count": 33,
      "metadata": {
        "id": "AWe0WOfCBvyj"
      },
      "outputs": [],
      "source": [
        "y_predr = []\n",
        "\n",
        "for i in range(len(w0r_values)):\n",
        "    y_pred_i = w0r_values[i] + X_train0.dot(wr_values[i])\n",
        "    y_predr.append(y_pred_i)"
      ]
    },
    {
      "cell_type": "code",
      "execution_count": 34,
      "metadata": {
        "id": "cFmnmbnVB41J",
        "colab": {
          "base_uri": "https://localhost:8080/"
        },
        "outputId": "d8d79594-5a67-453f-bbac-ca2f10948fcd"
      },
      "outputs": [
        {
          "output_type": "stream",
          "name": "stdout",
          "text": [
            "[0, 1, 2]\n"
          ]
        }
      ],
      "source": [
        "rmse_values = []\n",
        "\n",
        "for i in range(len(y_predr)):\n",
        "    rmse_i = round(rmse(y_predr[i], y_train),2)\n",
        "    rmse_values.append(rmse_i)\n",
        "\n",
        "min_value = np.min(rmse_values)\n",
        "indices_of_min_value = [i for i, v in enumerate(rmse_values) if v == min_value]\n",
        "print(indices_of_min_value)"
      ]
    },
    {
      "cell_type": "code",
      "source": [
        "print(rmse_values)"
      ],
      "metadata": {
        "colab": {
          "base_uri": "https://localhost:8080/"
        },
        "id": "NiCPGUx73FgL",
        "outputId": "2ce86b4f-e936-4857-c0fc-2fa934a7abd7"
      },
      "execution_count": 35,
      "outputs": [
        {
          "output_type": "stream",
          "name": "stdout",
          "text": [
            "[602.39, 602.39, 602.39, 602.41, 602.71, 603.13, 604.99]\n"
          ]
        }
      ]
    },
    {
      "cell_type": "markdown",
      "source": [
        "\n",
        "\n",
        "Question 5\n",
        "\n",
        "We used seed 42 for splitting the data. Let's find out how selecting the seed influences our score.\n",
        "Try different seed values: [0, 1, 2, 3, 4, 5, 6, 7, 8, 9].\n",
        "For each seed, do the train/validation/test split with 60%/20%/20% distribution.\n",
        "Fill the missing values with 0 and train a model without regularization.\n",
        "For each seed, evaluate the model on the validation dataset and collect the RMSE scores.\n",
        "What's the standard deviation of all the scores? To compute the standard deviation, use np.std.\n",
        "Round the result to 3 decimal digits (round(std, 3))\n",
        "\n",
        "What's the value of std?\n",
        "\n",
        "19.176\n",
        "29.176\n",
        "39.176\n",
        "49.176"
      ],
      "metadata": {
        "id": "9frySYQvyg1h"
      }
    },
    {
      "cell_type": "code",
      "execution_count": 36,
      "metadata": {
        "id": "4FePNgHQB70e"
      },
      "outputs": [],
      "source": [
        "s = [0, 1, 2, 3, 4, 5, 6, 7, 8, 9]"
      ]
    },
    {
      "cell_type": "code",
      "execution_count": 37,
      "metadata": {
        "colab": {
          "base_uri": "https://localhost:8080/"
        },
        "id": "koRujlhrB95H",
        "outputId": "84fb258f-e0f8-4c23-ce54-0a94675cb06e"
      },
      "outputs": [
        {
          "output_type": "stream",
          "name": "stdout",
          "text": [
            "[ 175  264 2131 ...  763  835 1653]\n",
            "[ 986  389   65 ... 1096  235 1061]\n",
            "[1510 1766  370 ...  674 1099 1608]\n",
            "[ 679  632  756 ... 1667 1688 1898]\n",
            "[1089 1023  189 ...  709  174 1146]\n",
            "[ 945  424 1544 ... 2121 1424 1725]\n",
            "[2020  263  925 ...  618 2004  227]\n",
            "[1288  262 2137 ...  537 1220  175]\n",
            "[ 916 2016  332 ... 2033 1364  451]\n",
            "[2003  502  896 ...  501  348  382]\n"
          ]
        }
      ],
      "source": [
        "n = len(df_new)\n",
        "idx_s = np.arange(n)\n",
        "\n",
        "shuffled_indices = []\n",
        "\n",
        "for seed in s:\n",
        "    np.random.seed(seed)\n",
        "    idx = idx_s.copy()\n",
        "    np.random.shuffle(idx)\n",
        "    shuffled_indices.append(idx)\n",
        "\n",
        "for idx in shuffled_indices:\n",
        "    print(idx)"
      ]
    },
    {
      "cell_type": "code",
      "execution_count": 38,
      "metadata": {
        "id": "uWp6tnLyB_qk"
      },
      "outputs": [],
      "source": [
        "df_train_list = []\n",
        "df_val_list = []\n",
        "df_test_list = []\n",
        "\n",
        "for i, idx in enumerate(shuffled_indices):\n",
        "    df_train = df_new.iloc[idx[:n_train]]\n",
        "    df_val = df_new.iloc[idx[n_train:n_train+n_val]]\n",
        "    df_test = df_new.iloc[idx[n_train+n_val:]]\n",
        "\n",
        "    df_train_list.append(df_train)\n",
        "    df_val_list.append(df_val)\n",
        "    df_test_list.append(df_test)\n",
        "\n",
        "    globals()[f'df_train{i+1}'] = df_train\n",
        "    globals()[f'df_val{i+1}'] = df_val\n",
        "    globals()[f'df_test{i+1}'] = df_test"
      ]
    },
    {
      "cell_type": "code",
      "execution_count": 39,
      "metadata": {
        "id": "GQX2ZqW7CBtG"
      },
      "outputs": [],
      "source": [
        "y_train_list = []\n",
        "y_val_list = []\n",
        "y_test_list = []\n",
        "\n",
        "for i in range(len(df_train_list)):\n",
        "    y_train = df_train_list[i]['final_price'].values\n",
        "    y_val = df_val_list[i]['final_price'].values\n",
        "    y_test = df_test_list[i]['final_price'].values\n",
        "\n",
        "    y_train_list.append(y_train)\n",
        "    y_val_list.append(y_val)\n",
        "    y_test_list.append(y_test)\n",
        "\n",
        "    globals()[f'y_train{i+1}'] = y_train\n",
        "    globals()[f'y_val{i+1}'] = y_val\n",
        "    globals()[f'y_test{i+1}'] = y_test"
      ]
    },
    {
      "cell_type": "code",
      "source": [
        "X_val_list = []\n",
        "\n",
        "for i in range(len(df_val_list)):\n",
        "    X_val = prepare_X0(df_val_list[i])\n",
        "    X_val_list.append(X_val)\n",
        "\n",
        "    globals()[f'X_val{i+1}'] = X_val"
      ],
      "metadata": {
        "id": "tbzXQ5q1ysRk"
      },
      "execution_count": 40,
      "outputs": []
    },
    {
      "cell_type": "code",
      "source": [
        "w0_list = []\n",
        "w_list = []\n",
        "\n",
        "for i in range(len(X_val_list)):\n",
        "    w0_0, w_0 = train_linear_regression(X_val_list[i], y_val_list[i])\n",
        "    w0_list.append(w0_0)\n",
        "    w_list.append(w_0)\n",
        "\n",
        "    globals()[f'w0_{i+1}'] = w0_0\n",
        "    globals()[f'w_{i+1}'] = w_0"
      ],
      "metadata": {
        "id": "Fqr4WG87yuCg"
      },
      "execution_count": 41,
      "outputs": []
    },
    {
      "cell_type": "code",
      "source": [
        "y_pred_list = []\n",
        "\n",
        "for i in range(len(X_val_list)):\n",
        "    w0 = w0_list[i]\n",
        "    w = w_list[i]\n",
        "    y_pred = w0 + X_val_list[i].dot(w)\n",
        "    y_pred_list.append(y_pred)\n",
        "\n",
        "    globals()[f'y_pred{i+1}'] = y_pred"
      ],
      "metadata": {
        "id": "zeepBKvxyv0Y"
      },
      "execution_count": 42,
      "outputs": []
    },
    {
      "cell_type": "code",
      "source": [
        "rmse_list = []\n",
        "\n",
        "for i in range(len(y_pred_list)):\n",
        "    rmse_value = round(rmse(y_pred_list[i], y_val_list[i]), 3)\n",
        "    rmse_list.append(rmse_value)\n",
        "\n",
        "    globals()[f'rmse{i+1}'] = rmse_value"
      ],
      "metadata": {
        "id": "NeF-hCQVyxyw"
      },
      "execution_count": 43,
      "outputs": []
    },
    {
      "cell_type": "code",
      "source": [
        "print(rmse_list)"
      ],
      "metadata": {
        "colab": {
          "base_uri": "https://localhost:8080/"
        },
        "id": "3YU50yPUy0H5",
        "outputId": "33d53194-b66d-4f74-d87e-89eb00b88f25"
      },
      "execution_count": 44,
      "outputs": [
        {
          "output_type": "stream",
          "name": "stdout",
          "text": [
            "[562.363, 635.103, 587.682, 590.779, 562.96, 562.709, 627.178, 542.718, 581.455, 549.282]\n"
          ]
        }
      ]
    },
    {
      "cell_type": "code",
      "source": [
        "std_rmse = np.std(rmse_list)\n",
        "std_rmse_rounded = round(std_rmse, 3)\n",
        "\n",
        "print(\"Standard Deviation of RMSE Scores:\", std_rmse_rounded)"
      ],
      "metadata": {
        "colab": {
          "base_uri": "https://localhost:8080/"
        },
        "id": "7xAHlmMEy1t-",
        "outputId": "85c56cf7-e244-4597-f497-586ce81fc412"
      },
      "execution_count": 45,
      "outputs": [
        {
          "output_type": "stream",
          "name": "stdout",
          "text": [
            "Standard Deviation of RMSE Scores: 29.45\n"
          ]
        }
      ]
    },
    {
      "cell_type": "markdown",
      "source": [
        "Question 6\n",
        "\n",
        "    Split the dataset like previously, use seed 9.\n",
        "    Combine train and validation datasets.\n",
        "    Fill the missing values with 0 and train a model with r=0.001.\n",
        "    What's the RMSE on the test dataset?\n",
        "\n",
        "Options:\n",
        "\n",
        "    598.60\n",
        "    608.60\n",
        "    618.60\n",
        "    628.60\n"
      ],
      "metadata": {
        "id": "CeqwWQDd4OM-"
      }
    },
    {
      "cell_type": "code",
      "source": [
        "n = len(df_new)\n",
        "idx = np.arange(n)\n",
        "np.random.seed(9)\n",
        "np.random.shuffle(idx)\n",
        "print(idx)"
      ],
      "metadata": {
        "colab": {
          "base_uri": "https://localhost:8080/"
        },
        "id": "3bZ7HBmv3470",
        "outputId": "e956c033-79c9-4b46-efa9-086c638fd8db"
      },
      "execution_count": 46,
      "outputs": [
        {
          "output_type": "stream",
          "name": "stdout",
          "text": [
            "[2003  502  896 ...  501  348  382]\n"
          ]
        }
      ]
    },
    {
      "cell_type": "code",
      "source": [
        "n_val = int(n * 0.2)\n",
        "n_test = int(n * 0.2)\n",
        "n_train = n - n_val - n_test"
      ],
      "metadata": {
        "id": "HzQW0Ukb4zPG"
      },
      "execution_count": 47,
      "outputs": []
    },
    {
      "cell_type": "code",
      "source": [
        "df_train = df_new.iloc[idx[:n_train]]\n",
        "df_val = df_new.iloc[idx[n_train:n_train+n_val]]\n",
        "df_test = df_new.iloc[idx[n_train+n_val:]]"
      ],
      "metadata": {
        "id": "U3XrwFip42hz"
      },
      "execution_count": 48,
      "outputs": []
    },
    {
      "cell_type": "code",
      "source": [
        "df_train = df_train.reset_index(drop=True)\n",
        "df_val = df_val.reset_index(drop=True)\n",
        "df_test = df_test.reset_index(drop=True)"
      ],
      "metadata": {
        "id": "HEdtYIV97BAg"
      },
      "execution_count": 49,
      "outputs": []
    },
    {
      "cell_type": "code",
      "source": [
        "y_train = df_train['final_price'].values\n",
        "y_val = df_val['final_price'].values\n",
        "y_test = df_test['final_price'].values"
      ],
      "metadata": {
        "id": "g4YyVrIJ7ED_"
      },
      "execution_count": 50,
      "outputs": []
    },
    {
      "cell_type": "code",
      "source": [
        "y_train_df = pd.DataFrame(y_train, columns=['final_price'])\n",
        "y_val_df = pd.DataFrame(y_val, columns=['final_price'])\n",
        "y_test_df = pd.DataFrame(y_test, columns=['final_price'])"
      ],
      "metadata": {
        "id": "_1C9JJok_8At"
      },
      "execution_count": 51,
      "outputs": []
    },
    {
      "cell_type": "code",
      "source": [
        "df_full = pd.concat([df_train,df_val])"
      ],
      "metadata": {
        "id": "1fyx2n5k5ng3"
      },
      "execution_count": 52,
      "outputs": []
    },
    {
      "cell_type": "code",
      "source": [
        "y_full = pd.concat([y_train_df,y_val_df])"
      ],
      "metadata": {
        "id": "pg1i3Wkm5reT"
      },
      "execution_count": 53,
      "outputs": []
    },
    {
      "cell_type": "code",
      "source": [
        "X_full0 = prepare_X0(df_full)"
      ],
      "metadata": {
        "id": "xXDaF-qZ5-eJ"
      },
      "execution_count": 54,
      "outputs": []
    },
    {
      "cell_type": "code",
      "source": [
        "w0_full, w_full = train_linear_regression_reg(X_full0,y_full,r=0.001)"
      ],
      "metadata": {
        "id": "nre-xARB6Jq1"
      },
      "execution_count": 55,
      "outputs": []
    },
    {
      "cell_type": "code",
      "source": [
        "y_predfull = w0_full + X_full0.dot(w_full)"
      ],
      "metadata": {
        "id": "TKZC_Yt66VA0"
      },
      "execution_count": 56,
      "outputs": []
    },
    {
      "cell_type": "code",
      "source": [
        "rmse0 = round(rmse(y_predfull,y_full),2)"
      ],
      "metadata": {
        "id": "7dnmhv5fALOk"
      },
      "execution_count": 58,
      "outputs": []
    },
    {
      "cell_type": "code",
      "source": [
        "print(rmse0)"
      ],
      "metadata": {
        "colab": {
          "base_uri": "https://localhost:8080/"
        },
        "id": "RbqLymDrAZjY",
        "outputId": "ead564e7-84c1-454c-a2fc-be6f6f02d8f2"
      },
      "execution_count": 59,
      "outputs": [
        {
          "output_type": "stream",
          "name": "stdout",
          "text": [
            "final_price    586.19\n",
            "dtype: float64\n"
          ]
        }
      ]
    },
    {
      "cell_type": "code",
      "source": [],
      "metadata": {
        "id": "GjXhuixvAbCt"
      },
      "execution_count": null,
      "outputs": []
    }
  ],
  "metadata": {
    "colab": {
      "provenance": [],
      "authorship_tag": "ABX9TyMYWLwG17oC4JCXHrI3IvUp",
      "include_colab_link": true
    },
    "kernelspec": {
      "display_name": "Python 3",
      "name": "python3"
    },
    "language_info": {
      "name": "python"
    }
  },
  "nbformat": 4,
  "nbformat_minor": 0
}