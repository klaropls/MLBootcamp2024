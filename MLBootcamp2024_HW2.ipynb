{
  "nbformat": 4,
  "nbformat_minor": 0,
  "metadata": {
    "colab": {
      "provenance": [],
      "authorship_tag": "ABX9TyNcoMRbhCH7ZkzHXyEwSksv",
      "include_colab_link": true
    },
    "kernelspec": {
      "name": "python3",
      "display_name": "Python 3"
    },
    "language_info": {
      "name": "python"
    }
  },
  "cells": [
    {
      "cell_type": "markdown",
      "metadata": {
        "id": "view-in-github",
        "colab_type": "text"
      },
      "source": [
        "<a href=\"https://colab.research.google.com/github/klaropls/MLBootcamp2024/blob/main/MLBootcamp2024_HW2.ipynb\" target=\"_parent\"><img src=\"https://colab.research.google.com/assets/colab-badge.svg\" alt=\"Open In Colab\"/></a>"
      ]
    },
    {
      "cell_type": "code",
      "execution_count": 3,
      "metadata": {
        "id": "GliowChNHrRJ"
      },
      "outputs": [],
      "source": [
        "import pandas as pd\n",
        "import numpy as np\n",
        "from google.colab import files"
      ]
    },
    {
      "cell_type": "markdown",
      "source": [
        "Extracting and preparing the dataset."
      ],
      "metadata": {
        "id": "HfbgZaRGsBwM"
      }
    },
    {
      "cell_type": "code",
      "source": [
        "url = 'https://raw.githubusercontent.com/alexeygrigorev/datasets/master/laptops.csv'"
      ],
      "metadata": {
        "id": "zZGjkMyeKLP3"
      },
      "execution_count": 4,
      "outputs": []
    },
    {
      "cell_type": "code",
      "source": [
        "df = pd.read_csv(url)\n",
        "print(df.head())"
      ],
      "metadata": {
        "colab": {
          "base_uri": "https://localhost:8080/"
        },
        "id": "sgo7vhZZLazQ",
        "outputId": "98e35249-30a0-4a69-c031-33bf8857cd93"
      },
      "execution_count": 5,
      "outputs": [
        {
          "output_type": "stream",
          "name": "stdout",
          "text": [
            "                                              Laptop Status   Brand  \\\n",
            "0  ASUS ExpertBook B1 B1502CBA-EJ0436X Intel Core...    New    Asus   \n",
            "1  Alurin Go Start Intel Celeron N4020/8GB/256GB ...    New  Alurin   \n",
            "2  ASUS ExpertBook B1 B1502CBA-EJ0424X Intel Core...    New    Asus   \n",
            "3  MSI Katana GF66 12UC-082XES Intel Core i7-1270...    New     MSI   \n",
            "4  HP 15S-FQ5085NS Intel Core i5-1235U/16GB/512GB...    New      HP   \n",
            "\n",
            "        Model            CPU  RAM  Storage Storage type       GPU  Screen  \\\n",
            "0  ExpertBook  Intel Core i5    8      512          SSD       NaN    15.6   \n",
            "1          Go  Intel Celeron    8      256          SSD       NaN    15.6   \n",
            "2  ExpertBook  Intel Core i3    8      256          SSD       NaN    15.6   \n",
            "3      Katana  Intel Core i7   16     1000          SSD  RTX 3050    15.6   \n",
            "4         15S  Intel Core i5   16      512          SSD       NaN    15.6   \n",
            "\n",
            "  Touch  Final Price  \n",
            "0    No      1009.00  \n",
            "1    No       299.00  \n",
            "2    No       789.00  \n",
            "3    No      1199.00  \n",
            "4    No       669.01  \n"
          ]
        }
      ]
    },
    {
      "cell_type": "code",
      "source": [
        "df.columns = df.columns.str.lower().str.replace(' ', '_')"
      ],
      "metadata": {
        "id": "zXggTPMOLczU"
      },
      "execution_count": 6,
      "outputs": []
    },
    {
      "cell_type": "code",
      "source": [
        "print(df.columns)"
      ],
      "metadata": {
        "colab": {
          "base_uri": "https://localhost:8080/"
        },
        "id": "hU6Iumh3L1s6",
        "outputId": "a55d7d05-2a61-4a1b-ad80-7cae21eaf255"
      },
      "execution_count": 7,
      "outputs": [
        {
          "output_type": "stream",
          "name": "stdout",
          "text": [
            "Index(['laptop', 'status', 'brand', 'model', 'cpu', 'ram', 'storage',\n",
            "       'storage_type', 'gpu', 'screen', 'touch', 'final_price'],\n",
            "      dtype='object')\n"
          ]
        }
      ]
    },
    {
      "cell_type": "code",
      "source": [
        "df_new = df[['ram','storage','screen','final_price']]"
      ],
      "metadata": {
        "id": "kABRzuVkN55O"
      },
      "execution_count": 8,
      "outputs": []
    },
    {
      "cell_type": "code",
      "source": [
        "print(df_new.head())"
      ],
      "metadata": {
        "colab": {
          "base_uri": "https://localhost:8080/"
        },
        "id": "sRIMlVBcOLK1",
        "outputId": "f91d8f4c-4464-4778-b3ee-68f271e342a3"
      },
      "execution_count": 9,
      "outputs": [
        {
          "output_type": "stream",
          "name": "stdout",
          "text": [
            "   ram  storage  screen  final_price\n",
            "0    8      512    15.6      1009.00\n",
            "1    8      256    15.6       299.00\n",
            "2    8      256    15.6       789.00\n",
            "3   16     1000    15.6      1199.00\n",
            "4   16      512    15.6       669.01\n"
          ]
        }
      ]
    },
    {
      "cell_type": "code",
      "source": [
        "import matplotlib.pyplot as plt\n",
        "import seaborn as sns\n",
        "\n",
        "%matplotlib inline"
      ],
      "metadata": {
        "id": "0OJp3YB0OTHR"
      },
      "execution_count": 10,
      "outputs": []
    },
    {
      "cell_type": "code",
      "source": [
        "sns.histplot(df_new.final_price)"
      ],
      "metadata": {
        "colab": {
          "base_uri": "https://localhost:8080/",
          "height": 468
        },
        "id": "fOjy4sqEOo0W",
        "outputId": "7979850f-c9e0-4e96-8ebe-483bf88a6c8d"
      },
      "execution_count": 11,
      "outputs": [
        {
          "output_type": "execute_result",
          "data": {
            "text/plain": [
              "<Axes: xlabel='final_price', ylabel='Count'>"
            ]
          },
          "metadata": {},
          "execution_count": 11
        },
        {
          "output_type": "display_data",
          "data": {
            "text/plain": [
              "<Figure size 640x480 with 1 Axes>"
            ],
            "image/png": "[encoded data removed]"
          },
          "metadata": {}
        }
      ]
    },
    {
      "cell_type": "markdown",
      "source": [
        "Question 1\n",
        "There's one column with missing values. What is it?\n",
        "\n",
        "We could simply use the isnull() function to find the missing elements. By composing it with .sum(), we find the total number of missing entries per column.\n",
        "\n",
        "**Ans: screen**"
      ],
      "metadata": {
        "id": "GHBcMs_osO0o"
      }
    },
    {
      "cell_type": "code",
      "source": [
        "df_new.isnull().sum()"
      ],
      "metadata": {
        "colab": {
          "base_uri": "https://localhost:8080/",
          "height": 210
        },
        "id": "mvIONBycOx5f",
        "outputId": "269ccfd4-3693-411b-8256-c2a4537e9609"
      },
      "execution_count": 12,
      "outputs": [
        {
          "output_type": "execute_result",
          "data": {
            "text/plain": [
              "ram            0\n",
              "storage        0\n",
              "screen         4\n",
              "final_price    0\n",
              "dtype: int64"
            ],
            "text/html": [
              "<div>\n",
              "<style scoped>\n",
              "    .dataframe tbody tr th:only-of-type {\n",
              "        vertical-align: middle;\n",
              "    }\n",
              "\n",
              "    .dataframe tbody tr th {\n",
              "        vertical-align: top;\n",
              "    }\n",
              "\n",
              "    .dataframe thead th {\n",
              "        text-align: right;\n",
              "    }\n",
              "</style>\n",
              "<table border=\"1\" class=\"dataframe\">\n",
              "  <thead>\n",
              "    <tr style=\"text-align: right;\">\n",
              "      <th></th>\n",
              "      <th>0</th>\n",
              "    </tr>\n",
              "  </thead>\n",
              "  <tbody>\n",
              "    <tr>\n",
              "      <th>ram</th>\n",
              "      <td>0</td>\n",
              "    </tr>\n",
              "    <tr>\n",
              "      <th>storage</th>\n",
              "      <td>0</td>\n",
              "    </tr>\n",
              "    <tr>\n",
              "      <th>screen</th>\n",
              "      <td>4</td>\n",
              "    </tr>\n",
              "    <tr>\n",
              "      <th>final_price</th>\n",
              "      <td>0</td>\n",
              "    </tr>\n",
              "  </tbody>\n",
              "</table>\n",
              "</div><br><label><b>dtype:</b> int64</label>"
            ]
          },
          "metadata": {},
          "execution_count": 12
        }
      ]
    },
    {
      "cell_type": "markdown",
      "source": [
        "Question 2\n",
        "What's the median (50% percentile) for variable 'ram'?\n",
        "\n",
        "This is very straightforward to answer with the .median() function.\n",
        "\n",
        "**Ans: 16.0**"
      ],
      "metadata": {
        "id": "crfENggGs-vh"
      }
    },
    {
      "cell_type": "code",
      "source": [
        "df_new.ram.median()"
      ],
      "metadata": {
        "colab": {
          "base_uri": "https://localhost:8080/"
        },
        "id": "J4ECJaKMQLEj",
        "outputId": "6d3f682c-9631-48af-9018-09440fdc07b9"
      },
      "execution_count": 13,
      "outputs": [
        {
          "output_type": "execute_result",
          "data": {
            "text/plain": [
              "16.0"
            ]
          },
          "metadata": {},
          "execution_count": 13
        }
      ]
    },
    {
      "cell_type": "markdown",
      "source": [
        "Question 3\n",
        "\n",
        "    We need to deal with missing values for the column from Q1.\n",
        "    We have two options: fill it with 0 or with the mean of this variable.\n",
        "    Try both options. For each, train a linear regression model without regularization using the code from the lessons.\n",
        "    For computing the mean, use the training only!\n",
        "    Use the validation dataset to evaluate the models and compare the RMSE of each option.\n",
        "    Round the RMSE scores to 2 decimal digits using round(score, 2)\n",
        "    Which option gives better RMSE?\n",
        "\n",
        "Options:\n",
        "\n",
        "    With 0\n",
        "    With mean\n",
        "    Both are equally good\n"
      ],
      "metadata": {
        "id": "Ptt7GRoLtOaJ"
      }
    },
    {
      "cell_type": "markdown",
      "source": [
        "We first need to split the dataset.\n",
        "Our first task is to shuffle the index to randomize the distribution of the dataset. We do it as follows:"
      ],
      "metadata": {
        "id": "3VeFBceftVye"
      }
    },
    {
      "cell_type": "code",
      "source": [
        "n = len(df_new)\n",
        "idx = np.arange(n)\n",
        "np.random.seed(42)\n",
        "np.random.shuffle(idx)\n",
        "print(idx)"
      ],
      "metadata": {
        "id": "CohwXt5qdBnN",
        "colab": {
          "base_uri": "https://localhost:8080/"
        },
        "outputId": "1754ec6e-653f-4269-d868-d27ab87d2fe8"
      },
      "execution_count": 14,
      "outputs": [
        {
          "output_type": "stream",
          "name": "stdout",
          "text": [
            "[2079  668 2073 ... 1130 1294  860]\n"
          ]
        }
      ]
    },
    {
      "cell_type": "markdown",
      "source": [
        "Now that we see the indices are shuffled, we split the validation/testing/training dataset into 20%/20%/60%. This can be done in a straightforward manner as follows.\n",
        "\n",
        "Note that it is best to write n_train as n - n_val - n_test over int(n*0.6) to avoid unnecessary index lost."
      ],
      "metadata": {
        "id": "yIDTsPiMuR8K"
      }
    },
    {
      "cell_type": "code",
      "source": [
        "n_val = int(n * 0.2)\n",
        "n_test = int(n * 0.2)\n",
        "n_train = n - n_val - n_test"
      ],
      "metadata": {
        "id": "lCUvAB46T_Gg"
      },
      "execution_count": 15,
      "outputs": []
    },
    {
      "cell_type": "code",
      "source": [
        "n_val, n_test, n_train"
      ],
      "metadata": {
        "colab": {
          "base_uri": "https://localhost:8080/"
        },
        "id": "wKCh4nAvV9vh",
        "outputId": "bcf90631-74e9-4113-adf3-bedd372e8a0c"
      },
      "execution_count": 16,
      "outputs": [
        {
          "output_type": "execute_result",
          "data": {
            "text/plain": [
              "(432, 432, 1296)"
            ]
          },
          "metadata": {},
          "execution_count": 16
        }
      ]
    },
    {
      "cell_type": "code",
      "source": [
        "df_train = df_new.iloc[idx[:n_train]]\n",
        "df_val = df_new.iloc[idx[n_train:n_train+n_val]]\n",
        "df_test = df_new.iloc[idx[n_train+n_val:]]"
      ],
      "metadata": {
        "id": "7bbOUzdvWKUO"
      },
      "execution_count": 17,
      "outputs": []
    },
    {
      "cell_type": "markdown",
      "source": [
        "Now that we've split them accordingly, we can make the data look cleaner by dropping the (random) indices."
      ],
      "metadata": {
        "id": "8Mj-nvXuuvm6"
      }
    },
    {
      "cell_type": "code",
      "source": [
        "df_train = df_train.reset_index(drop=True)\n",
        "df_val = df_val.reset_index(drop=True)\n",
        "df_test = df_test.reset_index(drop=True)"
      ],
      "metadata": {
        "id": "k19o-meNfIN0"
      },
      "execution_count": 18,
      "outputs": []
    },
    {
      "cell_type": "markdown",
      "source": [
        "Since we have a tail in our first inspection of the graph, we get the log values of our y. The +1 is to prevent any log(0) values."
      ],
      "metadata": {
        "id": "0NkemIyrxIxd"
      }
    },
    {
      "cell_type": "code",
      "source": [
        "y_train = np.log1p(df_train.final_price.values)\n",
        "y_val = np.log1p(df_val.final_price.values)\n",
        "y_test = np.log1p(df_test.final_price.values)"
      ],
      "metadata": {
        "id": "RSXXEwGG4drQ"
      },
      "execution_count": 19,
      "outputs": []
    },
    {
      "cell_type": "markdown",
      "source": [
        "It is then best to delete the y column of the data to avoid mistraining and confusion."
      ],
      "metadata": {
        "id": "JJOHBXNUxZbL"
      }
    },
    {
      "cell_type": "code",
      "source": [
        "del df_train['final_price']\n",
        "del df_val['final_price']\n",
        "del df_test['final_price']"
      ],
      "metadata": {
        "id": "W6R9yfI0zjCp"
      },
      "execution_count": 20,
      "outputs": []
    },
    {
      "cell_type": "code",
      "source": [
        "base = ['ram', 'storage', 'screen']"
      ],
      "metadata": {
        "id": "p9nRop43yDcj"
      },
      "execution_count": 21,
      "outputs": []
    },
    {
      "cell_type": "code",
      "source": [
        "def prepare_X0(df):\n",
        "\tdf_num = df[base]\n",
        "\tdf_num = df_num.fillna(0)\n",
        "\tX = df_num.values\n",
        "\treturn X"
      ],
      "metadata": {
        "id": "t4_7IxdPx0Nh"
      },
      "execution_count": 22,
      "outputs": []
    },
    {
      "cell_type": "code",
      "source": [
        "def prepare_Xmean(df):\n",
        "\tdf_num = df[base]\n",
        "\tdf_num = df_num.fillna(16.0)\n",
        "\tX = df_num.values\n",
        "\treturn X"
      ],
      "metadata": {
        "id": "FhhjO8ewx9lD"
      },
      "execution_count": 23,
      "outputs": []
    },
    {
      "cell_type": "code",
      "source": [
        "def train_linear_regression(X,y):\n",
        "  ones = np.ones(X.shape[0])\n",
        "  X = np.column_stack([ones,X])\n",
        "\n",
        "  XTX = X.T.dot(X)\n",
        "  XTX_inv = np.linalg.inv(XTX)\n",
        "  w_full = XTX_inv.dot(X.T).dot(y)\n",
        "\n",
        "  return w_full[0], w_full[1:]"
      ],
      "metadata": {
        "id": "8oGxCta0XvT2"
      },
      "execution_count": 24,
      "outputs": []
    },
    {
      "cell_type": "code",
      "source": [
        "X_train0 = prepare_X0(df_train)\n",
        "X_trainmean = prepare_Xmean(df_train)"
      ],
      "metadata": {
        "id": "zdpXMY9s0dpW"
      },
      "execution_count": 25,
      "outputs": []
    },
    {
      "cell_type": "code",
      "source": [
        "w0_0, w_0 = train_linear_regression(X_train0,y_train)\n",
        "w0_mean, w_mean = train_linear_regression(X_trainmean,y_train)"
      ],
      "metadata": {
        "id": "VXokk9KT4vDm"
      },
      "execution_count": 69,
      "outputs": []
    },
    {
      "cell_type": "code",
      "source": [
        "y_pred0 = w0_0 + X_train0.dot(w_0)\n",
        "y_predmean = w0_mean + X_trainmean.dot(w_mean)"
      ],
      "metadata": {
        "id": "E5O4zjOt6JcS"
      },
      "execution_count": 27,
      "outputs": []
    },
    {
      "cell_type": "code",
      "source": [
        "sns.histplot(y_pred0, color = 'red', alpha = 0.5, bins = 50)\n",
        "sns.histplot(y_train, color = 'blue', alpha = 0.5, bins = 50)"
      ],
      "metadata": {
        "colab": {
          "base_uri": "https://localhost:8080/",
          "height": 448
        },
        "id": "LAtbtZS_6Uv7",
        "outputId": "3912b87e-998e-4cc2-f8c9-e33300de0bbd"
      },
      "execution_count": 28,
      "outputs": [
        {
          "output_type": "execute_result",
          "data": {
            "text/plain": [
              "<Axes: ylabel='Count'>"
            ]
          },
          "metadata": {},
          "execution_count": 28
        },
        {
          "output_type": "display_data",
          "data": {
            "text/plain": [
              "<Figure size 640x480 with 1 Axes>"
            ],
            "image/png": "[encoded data removed]"
          },
          "metadata": {}
        }
      ]
    },
    {
      "cell_type": "code",
      "source": [
        "sns.histplot(y_predmean, color = 'red', alpha = 0.5, bins = 50)\n",
        "sns.histplot(y_train, color = 'blue', alpha = 0.5, bins = 50)"
      ],
      "metadata": {
        "colab": {
          "base_uri": "https://localhost:8080/",
          "height": 448
        },
        "id": "bTp2WdkU5y5q",
        "outputId": "9843dfa6-0407-4e42-c11b-5b6197c5f6d2"
      },
      "execution_count": 29,
      "outputs": [
        {
          "output_type": "execute_result",
          "data": {
            "text/plain": [
              "<Axes: ylabel='Count'>"
            ]
          },
          "metadata": {},
          "execution_count": 29
        },
        {
          "output_type": "display_data",
          "data": {
            "text/plain": [
              "<Figure size 640x480 with 1 Axes>"
            ],
            "image/png": "[encoded data removed]"
          },
          "metadata": {}
        }
      ]
    },
    {
      "cell_type": "code",
      "source": [
        "def rmse(y,y_pred):\n",
        "  se = (y - y_pred) ** 2\n",
        "  mse = se.mean()\n",
        "  return np.sqrt(mse)"
      ],
      "metadata": {
        "id": "c3n02F_l8r3x"
      },
      "execution_count": 30,
      "outputs": []
    },
    {
      "cell_type": "code",
      "source": [
        "rmse0 = round(rmse(y_pred0,y_train),2)\n",
        "rmsemean = round(rmse(y_predmean,y_train),2)\n",
        "print(rmse0-rmsemean)"
      ],
      "metadata": {
        "colab": {
          "base_uri": "https://localhost:8080/"
        },
        "id": "kQZahwok_X6M",
        "outputId": "d373822e-8e8f-4f15-f293-d13d5bb5c5b7"
      },
      "execution_count": 31,
      "outputs": [
        {
          "output_type": "stream",
          "name": "stdout",
          "text": [
            "0.0\n"
          ]
        }
      ]
    },
    {
      "cell_type": "code",
      "source": [
        "print(rmse0, rmsemean)"
      ],
      "metadata": {
        "colab": {
          "base_uri": "https://localhost:8080/"
        },
        "id": "AY0UyFuR6cL7",
        "outputId": "5c1e3257-121e-495d-a091-7da45de50ae6"
      },
      "execution_count": 32,
      "outputs": [
        {
          "output_type": "stream",
          "name": "stdout",
          "text": [
            "0.45 0.45\n"
          ]
        }
      ]
    },
    {
      "cell_type": "markdown",
      "source": [
        "They have the same RMSE. If we were not to round them off, we'd find that rmse0-rmsemean > 0. This means that using the mean value to fill up the missing column would be *slightly* a bit better."
      ],
      "metadata": {
        "id": "0nX69QY46C0C"
      }
    },
    {
      "cell_type": "markdown",
      "source": [
        "Question 4\n",
        "\n",
        "    Now let's train a regularized linear regression.\n",
        "    For this question, fill the NAs with 0.\n",
        "    Try different values of r from this list: [0, 0.01, 0.1, 1, 5, 10, 100].\n",
        "    Use RMSE to evaluate the model on the validation dataset.\n",
        "    Round the RMSE scores to 2 decimal digits.\n",
        "    Which r gives the best RMSE?\n",
        "\n",
        "If there are multiple options, select the smallest r.\n",
        "\n",
        "Options:\n",
        "\n",
        "    0\n",
        "    0.01\n",
        "    1\n",
        "    10\n",
        "    100\n"
      ],
      "metadata": {
        "id": "czQHhJ9qBjW1"
      }
    },
    {
      "cell_type": "code",
      "source": [
        "def train_linear_regression_reg(X, y, r=0.001):\n",
        "  ones = np.ones(X.shape[0])\n",
        "  X = np.column_stack([ones,X])\n",
        "\n",
        "  XTX = X.T.dot(X)\n",
        "  XTX = XTX + r * np.eye(XTX.shape[0])\n",
        "\n",
        "  XTX_inv = np.linalg.inv(XTX)\n",
        "  w_full = XTX_inv.dot(X.T).dot(y)\n",
        "\n",
        "  return w_full[0], w_full[1:]"
      ],
      "metadata": {
        "id": "reuSicYyAUN3"
      },
      "execution_count": 49,
      "outputs": []
    },
    {
      "cell_type": "code",
      "source": [
        "r = [0, 0.01, 0.1, 1, 5, 10, 100]\n",
        "\n",
        "w0r_values = []\n",
        "wr_values = []\n",
        "\n",
        "for i, r_val in enumerate(r):\n",
        "    x_i, y_i = train_linear_regression_reg(X_train0, y_train, r_val)\n",
        "    w0r_values.append(x_i)\n",
        "    wr_values.append(y_i)"
      ],
      "metadata": {
        "id": "2O0fiIDZSMH1"
      },
      "execution_count": 37,
      "outputs": []
    },
    {
      "cell_type": "code",
      "source": [
        "print(b)"
      ],
      "metadata": {
        "id": "Qg8vm2xsTuvt",
        "outputId": "b57ea126-cfe0-47ac-c778-6490c81de2b4",
        "colab": {
          "base_uri": "https://localhost:8080/"
        }
      },
      "execution_count": 51,
      "outputs": [
        {
          "output_type": "stream",
          "name": "stdout",
          "text": [
            "[ 0.02630209  0.00066013 -0.03610058]\n"
          ]
        }
      ]
    },
    {
      "cell_type": "code",
      "source": [
        "y_predr = []\n",
        "\n",
        "for i in range(len(w0r_values)):\n",
        "    y_pred_i = w0r_values[i] + X_train0.dot(wr_values[i])\n",
        "    y_predr.append(y_pred_i)"
      ],
      "metadata": {
        "id": "GQX2ZqW7CBtG"
      },
      "execution_count": 59,
      "outputs": []
    },
    {
      "cell_type": "code",
      "source": [
        "rmse_values = []\n",
        "\n",
        "for i in range(len(y_predr)):\n",
        "    rmse_i = round(rmse(y_predr[i], y_train),2)\n",
        "    rmse_values.append(rmse_i)\n",
        "\n",
        "print(rmse_values)"
      ],
      "metadata": {
        "id": "Gn3pN5qkTDrd",
        "outputId": "be4f1088-51c5-450a-ab6a-d22e4b563ae9",
        "colab": {
          "base_uri": "https://localhost:8080/"
        }
      },
      "execution_count": 61,
      "outputs": [
        {
          "output_type": "stream",
          "name": "stdout",
          "text": [
            "[0.45, 0.45, 0.45, 0.45, 0.49, 0.53, 0.71]\n"
          ]
        }
      ]
    },
    {
      "cell_type": "markdown",
      "source": [
        "Question 5\n",
        "\n",
        "    We used seed 42 for splitting the data. Let's find out how selecting the seed influences our score.\n",
        "    Try different seed values: [0, 1, 2, 3, 4, 5, 6, 7, 8, 9].\n",
        "    For each seed, do the train/validation/test split with 60%/20%/20% distribution.\n",
        "    Fill the missing values with 0 and train a model without regularization.\n",
        "    For each seed, evaluate the model on the validation dataset and collect the RMSE scores.\n",
        "    What's the standard deviation of all the scores? To compute the standard deviation, use np.std.\n",
        "    Round the result to 3 decimal digits (round(std, 3))\n",
        "\n",
        "What's the value of std?\n",
        "\n",
        "    19.176\n",
        "    29.176\n",
        "    39.176\n",
        "    49.176\n"
      ],
      "metadata": {
        "id": "2-YLX7EnWK24"
      }
    },
    {
      "cell_type": "code",
      "source": [
        "s = [0, 1, 2, 3, 4, 5, 6, 7, 8, 9]"
      ],
      "metadata": {
        "id": "oIRgaKszWKQl"
      },
      "execution_count": 62,
      "outputs": []
    },
    {
      "cell_type": "code",
      "source": [
        "n = len(df_new)\n",
        "idx_s = np.arange(n)\n",
        "\n",
        "shuffled_indices = []\n",
        "\n",
        "for seed in s:\n",
        "    np.random.seed(seed)\n",
        "    idx = idx_s.copy()  # Copy the original array to avoid overwriting it\n",
        "    np.random.shuffle(idx)\n",
        "    shuffled_indices.append(idx)\n",
        "\n",
        "for idx in shuffled_indices:\n",
        "    print(idx)"
      ],
      "metadata": {
        "id": "YaCfOT-mTjpO",
        "outputId": "c5d2effa-a49c-4e1d-fa85-ecdb2985162b",
        "colab": {
          "base_uri": "https://localhost:8080/"
        }
      },
      "execution_count": 63,
      "outputs": [
        {
          "output_type": "stream",
          "name": "stdout",
          "text": [
            "[ 175  264 2131 ...  763  835 1653]\n",
            "[ 986  389   65 ... 1096  235 1061]\n",
            "[1510 1766  370 ...  674 1099 1608]\n",
            "[ 679  632  756 ... 1667 1688 1898]\n",
            "[1089 1023  189 ...  709  174 1146]\n",
            "[ 945  424 1544 ... 2121 1424 1725]\n",
            "[2020  263  925 ...  618 2004  227]\n",
            "[1288  262 2137 ...  537 1220  175]\n",
            "[ 916 2016  332 ... 2033 1364  451]\n",
            "[2003  502  896 ...  501  348  382]\n"
          ]
        }
      ]
    },
    {
      "cell_type": "code",
      "source": [
        "df_train_list = []\n",
        "df_val_list = []\n",
        "df_test_list = []\n",
        "\n",
        "for i, idx in enumerate(shuffled_indices):\n",
        "    df_train = df_new.iloc[idx[:n_train]]\n",
        "    df_val = df_new.iloc[idx[n_train:n_train+n_val]]\n",
        "    df_test = df_new.iloc[idx[n_train+n_val:]]\n",
        "\n",
        "    df_train_list.append(df_train)\n",
        "    df_val_list.append(df_val)\n",
        "    df_test_list.append(df_test)\n",
        "\n",
        "    globals()[f'df_train{i+1}'] = df_train\n",
        "    globals()[f'df_val{i+1}'] = df_val\n",
        "    globals()[f'df_test{i+1}'] = df_test"
      ],
      "metadata": {
        "id": "F8EppMlFW2PL"
      },
      "execution_count": 65,
      "outputs": []
    },
    {
      "cell_type": "code",
      "source": [
        "y_train_list = []\n",
        "y_val_list = []\n",
        "y_test_list = []\n",
        "\n",
        "for i in range(len(df_train_list)):\n",
        "    y_train = np.log1p(df_train_list[i]['final_price'].values)\n",
        "    y_val = np.log1p(df_val_list[i]['final_price'].values)\n",
        "    y_test = np.log1p(df_test_list[i]['final_price'].values)\n",
        "\n",
        "    y_train_list.append(y_train)\n",
        "    y_val_list.append(y_val)\n",
        "    y_test_list.append(y_test)\n",
        "\n",
        "    globals()[f'y_train{i+1}'] = y_train\n",
        "    globals()[f'y_val{i+1}'] = y_val\n",
        "    globals()[f'y_test{i+1}'] = y_test"
      ],
      "metadata": {
        "id": "hiLdPc-rXYfD"
      },
      "execution_count": 66,
      "outputs": []
    },
    {
      "cell_type": "code",
      "source": [
        "X_train_list = []\n",
        "\n",
        "for i in range(len(df_train_list)):\n",
        "    X_train = prepare_X0(df_train_list[i])\n",
        "    X_train_list.append(X_train)\n",
        "\n",
        "    globals()[f'X_train{i+1}'] = X_train"
      ],
      "metadata": {
        "id": "mxTQJNbhXxIr"
      },
      "execution_count": 68,
      "outputs": []
    },
    {
      "cell_type": "code",
      "source": [
        "w0_list = []\n",
        "w_list = []\n",
        "\n",
        "for i in range(len(X_train_list)):\n",
        "    w0_0, w_0 = train_linear_regression(X_train_list[i], y_train_list[i])\n",
        "    w0_list.append(w0_0)\n",
        "    w_list.append(w_0)\n",
        "\n",
        "    globals()[f'w0_{i+1}'] = w0_0\n",
        "    globals()[f'w_{i+1}'] = w_0"
      ],
      "metadata": {
        "id": "mrdjpLxLYK_S"
      },
      "execution_count": 70,
      "outputs": []
    },
    {
      "cell_type": "code",
      "source": [
        "y_pred_list = []\n",
        "\n",
        "for i in range(len(X_train_list)):\n",
        "    w0 = w0_list[i]\n",
        "    w = w_list[i]\n",
        "    y_pred = w0 + X_train_list[i].dot(w)\n",
        "    y_pred_list.append(y_pred)\n",
        "\n",
        "    globals()[f'y_pred{i+1}'] = y_pred"
      ],
      "metadata": {
        "id": "jMwbkfcEYqxe"
      },
      "execution_count": 71,
      "outputs": []
    },
    {
      "cell_type": "code",
      "source": [
        "rmse_list = []\n",
        "\n",
        "for i in range(len(y_pred_list)):\n",
        "    rmse_value = round(rmse(y_pred_list[i], y_train_list[i]), 2)\n",
        "    rmse_list.append(rmse_value)\n",
        "\n",
        "    globals()[f'rmse{i+1}'] = rmse_value"
      ],
      "metadata": {
        "id": "9lxFA0MpY-JB"
      },
      "execution_count": 73,
      "outputs": []
    },
    {
      "cell_type": "code",
      "source": [
        "print(rmse_list)"
      ],
      "metadata": {
        "id": "34lXHXM3ZM0r",
        "outputId": "210a7471-32d7-4523-da6c-3dafa9c2f3ff",
        "colab": {
          "base_uri": "https://localhost:8080/"
        }
      },
      "execution_count": 74,
      "outputs": [
        {
          "output_type": "stream",
          "name": "stdout",
          "text": [
            "[0.44, 0.44, 0.43, 0.44, 0.44, 0.45, 0.44, 0.44, 0.43, 0.44]\n"
          ]
        }
      ]
    },
    {
      "cell_type": "code",
      "source": [
        "std_rmse = np.std(rmse_list)\n",
        "std_rmse_rounded = round(std_rmse, 3)\n",
        "\n",
        "print(\"Standard Deviation of RMSE Scores:\", std_rmse_rounded)"
      ],
      "metadata": {
        "id": "-v4NHSNOZQ0N",
        "outputId": "7665b00a-a7e8-4827-9d55-ebfc12d880d0",
        "colab": {
          "base_uri": "https://localhost:8080/"
        }
      },
      "execution_count": 75,
      "outputs": [
        {
          "output_type": "stream",
          "name": "stdout",
          "text": [
            "Standard Deviation of RMSE Scores: 0.005\n"
          ]
        }
      ]
    },
    {
      "cell_type": "code",
      "source": [],
      "metadata": {
        "id": "wCyuIbupZk96"
      },
      "execution_count": null,
      "outputs": []
    }
  ]
}