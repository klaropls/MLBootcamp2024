{
  "nbformat": 4,
  "nbformat_minor": 0,
  "metadata": {
    "colab": {
      "provenance": [],
      "authorship_tag": "ABX9TyNzmSXXr8B8EUhgwbM/2dRw",
      "include_colab_link": true
    },
    "kernelspec": {
      "name": "python3",
      "display_name": "Python 3"
    },
    "language_info": {
      "name": "python"
    }
  },
  "cells": [
    {
      "cell_type": "markdown",
      "metadata": {
        "id": "view-in-github",
        "colab_type": "text"
      },
      "source": [
        "<a href=\"https://colab.research.google.com/github/klaropls/MLBootcamp2024/blob/main/MLBootcamp2024_HW1.ipynb\" target=\"_parent\"><img src=\"https://colab.research.google.com/assets/colab-badge.svg\" alt=\"Open In Colab\"/></a>"
      ]
    },
    {
      "cell_type": "markdown",
      "source": [
        "This notebook contains the code in helping me answer my first homework (01-intro) in ML Bootcamp 2024"
      ],
      "metadata": {
        "id": "sjeIyfyFmyfP"
      }
    },
    {
      "cell_type": "code",
      "source": [
        "import pandas as pd\n",
        "import numpy as np\n",
        "from google.colab import files"
      ],
      "metadata": {
        "id": "EviuZErpZWHM"
      },
      "execution_count": 1,
      "outputs": []
    },
    {
      "cell_type": "markdown",
      "source": [
        "**Q1. Panda version?**\n",
        "\n",
        "**Ans. 2.1.4**"
      ],
      "metadata": {
        "id": "50wAK947nLoW"
      }
    },
    {
      "cell_type": "code",
      "execution_count": 2,
      "metadata": {
        "colab": {
          "base_uri": "https://localhost:8080/",
          "height": 36
        },
        "id": "zhFJVa6sZLsK",
        "outputId": "60b576ea-3f21-4ed6-d79d-c7da6a89b228"
      },
      "outputs": [
        {
          "output_type": "execute_result",
          "data": {
            "text/plain": [
              "'2.1.4'"
            ],
            "application/vnd.google.colaboratory.intrinsic+json": {
              "type": "string"
            }
          },
          "metadata": {},
          "execution_count": 2
        }
      ],
      "source": [
        "pd.__version__"
      ]
    },
    {
      "cell_type": "markdown",
      "source": [
        "We are tasked to get the laptops.csv data from [here](https://raw.githubusercontent.com/alexeygrigorev/datasets/master/laptops.csv). I downloaded it and uploaded it in my own MLBootcamp2024 repository."
      ],
      "metadata": {
        "id": "5B--MtVInOjT"
      }
    },
    {
      "cell_type": "code",
      "source": [
        "url = 'https://raw.githubusercontent.com/klaropls/MLBootcamp2024/refs/heads/main/laptops.csv'"
      ],
      "metadata": {
        "id": "PMt4IjfOcA4m"
      },
      "execution_count": 3,
      "outputs": []
    },
    {
      "cell_type": "markdown",
      "source": [
        "We then open it using pandas and print it to get the general picture of the dataframe."
      ],
      "metadata": {
        "id": "5PooyNvlnl8K"
      }
    },
    {
      "cell_type": "code",
      "source": [
        "df = pd.read_csv(url)\n",
        "print(df)\n"
      ],
      "metadata": {
        "colab": {
          "base_uri": "https://localhost:8080/"
        },
        "id": "QbvZmLBfZQyA",
        "outputId": "ba762a7c-4115-4c14-cb06-67a9b935e27e"
      },
      "execution_count": 4,
      "outputs": [
        {
          "output_type": "stream",
          "name": "stdout",
          "text": [
            "                                                 Laptop       Status   Brand  \\\n",
            "0     ASUS ExpertBook B1 B1502CBA-EJ0436X Intel Core...          New    Asus   \n",
            "1     Alurin Go Start Intel Celeron N4020/8GB/256GB ...          New  Alurin   \n",
            "2     ASUS ExpertBook B1 B1502CBA-EJ0424X Intel Core...          New    Asus   \n",
            "3     MSI Katana GF66 12UC-082XES Intel Core i7-1270...          New     MSI   \n",
            "4     HP 15S-FQ5085NS Intel Core i5-1235U/16GB/512GB...          New      HP   \n",
            "...                                                 ...          ...     ...   \n",
            "2155  Razer Blade 17 FHD 360Hz Intel Core i7-11800H/...  Refurbished   Razer   \n",
            "2156  Razer Blade 17 FHD 360Hz Intel Core i7-11800H/...  Refurbished   Razer   \n",
            "2157  Razer Blade 17 FHD 360Hz Intel Core i7-11800H/...  Refurbished   Razer   \n",
            "2158  Razer Book 13 Intel Evo Core i7-1165G7/16GB/1T...  Refurbished   Razer   \n",
            "2159  Razer Book FHD+ Intel Evo Core i7-1165G7/16GB/...  Refurbished   Razer   \n",
            "\n",
            "           Model                CPU  RAM  Storage Storage type       GPU  \\\n",
            "0     ExpertBook      Intel Core i5    8      512          SSD       NaN   \n",
            "1             Go      Intel Celeron    8      256          SSD       NaN   \n",
            "2     ExpertBook      Intel Core i3    8      256          SSD       NaN   \n",
            "3         Katana      Intel Core i7   16     1000          SSD  RTX 3050   \n",
            "4            15S      Intel Core i5   16      512          SSD       NaN   \n",
            "...          ...                ...  ...      ...          ...       ...   \n",
            "2155       Blade      Intel Core i7   16     1000          SSD  RTX 3060   \n",
            "2156       Blade      Intel Core i7   16     1000          SSD  RTX 3070   \n",
            "2157       Blade      Intel Core i7   32     1000          SSD  RTX 3080   \n",
            "2158        Book  Intel Evo Core i7   16     1000          SSD       NaN   \n",
            "2159        Book  Intel Evo Core i7   16      256          SSD       NaN   \n",
            "\n",
            "      Screen Touch  Final Price  \n",
            "0       15.6    No      1009.00  \n",
            "1       15.6    No       299.00  \n",
            "2       15.6    No       789.00  \n",
            "3       15.6    No      1199.00  \n",
            "4       15.6    No       669.01  \n",
            "...      ...   ...          ...  \n",
            "2155    17.3    No      2699.99  \n",
            "2156    17.3    No      2899.99  \n",
            "2157    17.3    No      3399.99  \n",
            "2158    13.4   Yes      1899.99  \n",
            "2159    13.4   Yes      1699.99  \n",
            "\n",
            "[2160 rows x 12 columns]\n"
          ]
        }
      ]
    },
    {
      "cell_type": "markdown",
      "source": [
        "**Q2. Record count?**\n",
        "\n",
        "This is basically the number of rows of our dataframe. We can readily answer this by getting the shape of df.\n",
        "\n",
        "**Ans: 2160.**"
      ],
      "metadata": {
        "id": "2yL3Cyzgn15C"
      }
    },
    {
      "cell_type": "code",
      "source": [
        "print(df.shape)"
      ],
      "metadata": {
        "colab": {
          "base_uri": "https://localhost:8080/"
        },
        "id": "r9aQ8PVoZUyU",
        "outputId": "34ae8cf4-654d-4a1d-f9c6-dbd566f62db1"
      },
      "execution_count": 5,
      "outputs": [
        {
          "output_type": "stream",
          "name": "stdout",
          "text": [
            "(2160, 12)\n"
          ]
        }
      ]
    },
    {
      "cell_type": "markdown",
      "source": [
        "**Q3. Laptop brands**\n",
        "\n",
        "How many laptop brands are presented in the dataset?\n",
        "\n",
        "From our printed df, the laptop brands are in column 2 (starting from 0). We could simply use the **.nunique()** function.\n",
        "\n",
        "**Ans. 27**"
      ],
      "metadata": {
        "id": "aSVBQaGwonV2"
      }
    },
    {
      "cell_type": "code",
      "source": [
        "print(df['Brand'].nunique())"
      ],
      "metadata": {
        "colab": {
          "base_uri": "https://localhost:8080/"
        },
        "id": "llNv7VPHdMku",
        "outputId": "13d5e61d-8a37-4718-9cb2-d971acdf583e"
      },
      "execution_count": 6,
      "outputs": [
        {
          "output_type": "stream",
          "name": "stdout",
          "text": [
            "27\n"
          ]
        }
      ]
    },
    {
      "cell_type": "markdown",
      "source": [
        "**Q4. Missing values**\n",
        "\n",
        "How many columns in the dataset have missing values?\n",
        "\n",
        "To answer this, we use the function **.isnull()**. This tells whether the cell has an input or none. For example, if we apply this to a column, it returns a column with binary elements (True/False). Since we know that if there is either an element missing (False) or none (True), we could simply get the number of unique elements per column.\n",
        "\n",
        "If a column has a missing element, the **.nunique** function will return 2. If none, it will return 1. We could then construct a for loop to get the number of unique elements per column and extract the index of elements equal to 2 (or =/= 1).\n",
        "\n",
        "**Ans. 3**"
      ],
      "metadata": {
        "id": "ekDsKAipplet"
      }
    },
    {
      "cell_type": "code",
      "source": [
        "misscol = []\n",
        "\n",
        "for i in range(12):\n",
        "    a = df.iloc[:, i].isnull().nunique()\n",
        "    misscol.append(a)\n",
        "\n",
        "print(misscol)"
      ],
      "metadata": {
        "colab": {
          "base_uri": "https://localhost:8080/"
        },
        "id": "W-DFrzXDiny9",
        "outputId": "c4d94d94-0e63-4a1b-ecfb-4e2223aa5b5d"
      },
      "execution_count": 7,
      "outputs": [
        {
          "output_type": "stream",
          "name": "stdout",
          "text": [
            "[1, 1, 1, 1, 1, 1, 1, 2, 2, 2, 1, 1]\n"
          ]
        }
      ]
    },
    {
      "cell_type": "code",
      "source": [
        "indices = [index for index, value in enumerate(misscol) if value != 1]"
      ],
      "metadata": {
        "id": "8SvEnXQNjoUq"
      },
      "execution_count": 8,
      "outputs": []
    },
    {
      "cell_type": "code",
      "source": [
        "print(indices)"
      ],
      "metadata": {
        "colab": {
          "base_uri": "https://localhost:8080/"
        },
        "id": "HGTwp035Sf5x",
        "outputId": "669dac2a-3017-4e9a-a3ba-1f550ca0da86"
      },
      "execution_count": 9,
      "outputs": [
        {
          "output_type": "stream",
          "name": "stdout",
          "text": [
            "[7, 8, 9]\n"
          ]
        }
      ]
    },
    {
      "cell_type": "code",
      "source": [
        "print(len(indices))"
      ],
      "metadata": {
        "colab": {
          "base_uri": "https://localhost:8080/"
        },
        "id": "bsSsp3ephvm6",
        "outputId": "9b0c2045-8b69-4181-da5f-df0780ca4d9f"
      },
      "execution_count": 10,
      "outputs": [
        {
          "output_type": "stream",
          "name": "stdout",
          "text": [
            "3\n"
          ]
        }
      ]
    },
    {
      "cell_type": "markdown",
      "source": [
        "**Q5. Maximum final price**\n",
        "\n",
        "What's the maximum final price of Dell notebooks in the dataset?\n",
        "\n",
        "We first filter the dataframe by a simple indexing. Afterwards, we use the **.max()** function to find the max value in the filtered column."
      ],
      "metadata": {
        "id": "spCY49PlrGfc"
      }
    },
    {
      "cell_type": "code",
      "source": [
        "column_names = df.columns[0:12].tolist()\n",
        "print (column_names)"
      ],
      "metadata": {
        "colab": {
          "base_uri": "https://localhost:8080/"
        },
        "id": "VIbKv9cDrKHg",
        "outputId": "02bdc9a3-6b48-4c80-ceb9-d9d75139ae60"
      },
      "execution_count": 11,
      "outputs": [
        {
          "output_type": "stream",
          "name": "stdout",
          "text": [
            "['Laptop', 'Status', 'Brand', 'Model', 'CPU', 'RAM', 'Storage', 'Storage type', 'GPU', 'Screen', 'Touch', 'Final Price']\n"
          ]
        }
      ]
    },
    {
      "cell_type": "code",
      "source": [
        "onlydell_df = df[df['Brand'] == 'Dell']"
      ],
      "metadata": {
        "id": "SH3T_QjFPXak"
      },
      "execution_count": 12,
      "outputs": []
    },
    {
      "cell_type": "code",
      "source": [
        "print(onlydell_df['Final Price'].max())"
      ],
      "metadata": {
        "colab": {
          "base_uri": "https://localhost:8080/"
        },
        "id": "79ft5uanrPgl",
        "outputId": "0fa86583-763f-46e6-eb26-61df69c425f2"
      },
      "execution_count": 13,
      "outputs": [
        {
          "output_type": "stream",
          "name": "stdout",
          "text": [
            "3936.0\n"
          ]
        }
      ]
    },
    {
      "cell_type": "markdown",
      "source": [
        "Q6. Median value of Screen\n",
        "\n",
        "    Find the median value of Screen column in the dataset.\n",
        "    Next, calculate the most frequent value of the same Screen column.\n",
        "    Use fillna method to fill the missing values in Screen column with the most frequent value from the previous step.\n",
        "    Now, calculate the median value of Screen once again.\n",
        "\n",
        "Has it changed? **Ans. No**\n",
        "\n",
        "    Hint: refer to existing mode and median functions to complete the task.\n",
        "\n",
        "    Yes\n",
        "    No\n"
      ],
      "metadata": {
        "id": "lFIgIsFlQOW9"
      }
    },
    {
      "cell_type": "code",
      "source": [
        "median = df['Screen'].median()\n",
        "mode = df['Screen'].mode()\n",
        "\n",
        "print(mode)\n"
      ],
      "metadata": {
        "colab": {
          "base_uri": "https://localhost:8080/"
        },
        "id": "0Qb2lCh-N0oN",
        "outputId": "756cfb28-2cc0-4da3-c824-65af77686322"
      },
      "execution_count": 14,
      "outputs": [
        {
          "output_type": "stream",
          "name": "stdout",
          "text": [
            "0    15.6\n",
            "Name: Screen, dtype: float64\n"
          ]
        }
      ]
    },
    {
      "cell_type": "code",
      "source": [
        "filled_screen = df['Screen'].fillna(mode)"
      ],
      "metadata": {
        "id": "fVp1OVwVRq-w"
      },
      "execution_count": 15,
      "outputs": []
    },
    {
      "cell_type": "code",
      "source": [
        "print(filled_screen.median())"
      ],
      "metadata": {
        "colab": {
          "base_uri": "https://localhost:8080/"
        },
        "id": "F4HgLZktSODp",
        "outputId": "62859e9e-6785-4d6a-f11f-208c0a40ff82"
      },
      "execution_count": 16,
      "outputs": [
        {
          "output_type": "stream",
          "name": "stdout",
          "text": [
            "15.6\n"
          ]
        }
      ]
    },
    {
      "cell_type": "markdown",
      "source": [
        "I am actually quite surprised with the answer. My hunch is that there are very minimal blank missing entries from the screen column. Let us check this by doing the following:"
      ],
      "metadata": {
        "id": "Mg4dSMsqTz4i"
      }
    },
    {
      "cell_type": "code",
      "source": [
        "missing_count = df['Screen'].isnull().sum()\n",
        "\n",
        "print(missing_count)"
      ],
      "metadata": {
        "colab": {
          "base_uri": "https://localhost:8080/"
        },
        "id": "INbx6VD8SqUe",
        "outputId": "c9bb0687-9104-4630-b1fe-e52349fd530e"
      },
      "execution_count": 17,
      "outputs": [
        {
          "output_type": "stream",
          "name": "stdout",
          "text": [
            "4\n"
          ]
        }
      ]
    },
    {
      "cell_type": "markdown",
      "source": [
        "Ok, this makes sense. Only 4 missing entries over 2k+. I should then not expect the median to change."
      ],
      "metadata": {
        "id": "7N_HDdt0UA4C"
      }
    },
    {
      "cell_type": "markdown",
      "source": [
        "Q7. Sum of weights\n",
        "\n",
        "    Select all the \"Innjoo\" laptops from the dataset.\n",
        "    Select only columns RAM, Storage, Screen.\n",
        "    Get the underlying NumPy array. Let's call it X.\n",
        "    Compute matrix-matrix multiplication between the transpose of X and X. To get the transpose, use X.T. Let's call the result XTX.\n",
        "    Compute the inverse of XTX.\n",
        "    Create an array y with values [1100, 1300, 800, 900, 1000, 1100].\n",
        "    Multiply the inverse of XTX with the transpose of X, and then multiply the result by y. Call the result w.\n",
        "    What's the sum of all the elements of the result?\n"
      ],
      "metadata": {
        "id": "u3SacTVDUoBg"
      }
    },
    {
      "cell_type": "code",
      "source": [
        "onlyinnjoo_df = df[df['Brand'] == 'Innjoo']"
      ],
      "metadata": {
        "id": "JarG3CipSXiq"
      },
      "execution_count": 18,
      "outputs": []
    },
    {
      "cell_type": "code",
      "source": [
        "column_names2 = onlyinnjoo_df.columns[0:12].tolist()\n",
        "print (column_names)"
      ],
      "metadata": {
        "colab": {
          "base_uri": "https://localhost:8080/"
        },
        "id": "ylShGyo2Vj6g",
        "outputId": "c045cf8f-7f76-47b2-c3be-4ca859a0b725"
      },
      "execution_count": 19,
      "outputs": [
        {
          "output_type": "stream",
          "name": "stdout",
          "text": [
            "['Laptop', 'Status', 'Brand', 'Model', 'CPU', 'RAM', 'Storage', 'Storage type', 'GPU', 'Screen', 'Touch', 'Final Price']\n"
          ]
        }
      ]
    },
    {
      "cell_type": "code",
      "source": [
        "onlyinjoo_subset = onlyinnjoo_df[['RAM', 'Storage', 'Screen']]\n",
        "print(onlyinjoo_subset)"
      ],
      "metadata": {
        "colab": {
          "base_uri": "https://localhost:8080/"
        },
        "id": "ZYQ0cz3TVb3M",
        "outputId": "891dc02f-c120-47dc-a8ee-0316b48452bc"
      },
      "execution_count": 20,
      "outputs": [
        {
          "output_type": "stream",
          "name": "stdout",
          "text": [
            "      RAM  Storage  Screen\n",
            "1478    8      256    15.6\n",
            "1479    8      512    15.6\n",
            "1480    4       64    14.1\n",
            "1481    6       64    14.1\n",
            "1482    6      128    14.1\n",
            "1483    6      128    14.1\n"
          ]
        }
      ]
    },
    {
      "cell_type": "code",
      "source": [
        "print(len(onlyinjoo_subset))"
      ],
      "metadata": {
        "colab": {
          "base_uri": "https://localhost:8080/"
        },
        "id": "JSDzIUWNV-z1",
        "outputId": "2fee35e3-fd59-4068-9d93-7736c9d1cb25"
      },
      "execution_count": 21,
      "outputs": [
        {
          "output_type": "stream",
          "name": "stdout",
          "text": [
            "6\n"
          ]
        }
      ]
    },
    {
      "cell_type": "code",
      "source": [
        "X = onlyinjoo_subset.values"
      ],
      "metadata": {
        "id": "itap19nkWf6e"
      },
      "execution_count": 22,
      "outputs": []
    },
    {
      "cell_type": "code",
      "source": [
        "print(X)"
      ],
      "metadata": {
        "colab": {
          "base_uri": "https://localhost:8080/"
        },
        "id": "4WPspJsTX7-J",
        "outputId": "e0c2bd93-7932-4d7f-98bd-6abebcd355e2"
      },
      "execution_count": 23,
      "outputs": [
        {
          "output_type": "stream",
          "name": "stdout",
          "text": [
            "[[  8.  256.   15.6]\n",
            " [  8.  512.   15.6]\n",
            " [  4.   64.   14.1]\n",
            " [  6.   64.   14.1]\n",
            " [  6.  128.   14.1]\n",
            " [  6.  128.   14.1]]\n"
          ]
        }
      ]
    },
    {
      "cell_type": "code",
      "source": [
        "XTX = np.dot(X.T,X)\n",
        "print(XTX)"
      ],
      "metadata": {
        "colab": {
          "base_uri": "https://localhost:8080/"
        },
        "id": "xuK7GUq1X8-M",
        "outputId": "4f8b79f0-241a-49e8-b779-7499378cf063"
      },
      "execution_count": 24,
      "outputs": [
        {
          "output_type": "stream",
          "name": "stdout",
          "text": [
            "[[2.52000e+02 8.32000e+03 5.59800e+02]\n",
            " [8.32000e+03 3.68640e+05 1.73952e+04]\n",
            " [5.59800e+02 1.73952e+04 1.28196e+03]]\n"
          ]
        }
      ]
    },
    {
      "cell_type": "code",
      "source": [
        "XTX_inv = np.linalg.inv(XTX)"
      ],
      "metadata": {
        "id": "ark62t_FYvNW"
      },
      "execution_count": 25,
      "outputs": []
    },
    {
      "cell_type": "code",
      "source": [
        "y = [1100, 1300, 800, 900, 1000, 1100]"
      ],
      "metadata": {
        "id": "s5iqN5auY5SD"
      },
      "execution_count": 26,
      "outputs": []
    },
    {
      "cell_type": "code",
      "source": [
        "w= np.dot(np.dot(XTX_inv,X.T),y)"
      ],
      "metadata": {
        "id": "Tw2HpWrWY9DZ"
      },
      "execution_count": 27,
      "outputs": []
    },
    {
      "cell_type": "code",
      "source": [
        "print(w)\n",
        "print(w.sum())"
      ],
      "metadata": {
        "colab": {
          "base_uri": "https://localhost:8080/"
        },
        "id": "3xDmHLslZK_W",
        "outputId": "2b08e436-8318-4792-d5b7-1d6beba9efd3"
      },
      "execution_count": 28,
      "outputs": [
        {
          "output_type": "stream",
          "name": "stdout",
          "text": [
            "[45.58076606  0.42783519 45.29127938]\n",
            "91.2998806299555\n"
          ]
        }
      ]
    },
    {
      "cell_type": "code",
      "source": [],
      "metadata": {
        "id": "w1C-hFqXZOYe"
      },
      "execution_count": 28,
      "outputs": []
    }
  ]
}